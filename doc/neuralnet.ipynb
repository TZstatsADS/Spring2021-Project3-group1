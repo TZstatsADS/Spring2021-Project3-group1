{
  "nbformat": 4,
  "nbformat_minor": 0,
  "metadata": {
    "colab": {
      "name": "neuralnet.ipynb",
      "provenance": [],
      "collapsed_sections": []
    },
    "kernelspec": {
      "name": "python3",
      "display_name": "Python 3"
    }
  },
  "cells": [
    {
      "cell_type": "code",
      "metadata": {
        "colab": {
          "base_uri": "https://localhost:8080/"
        },
        "id": "yNOpjYj3DR_e",
        "outputId": "9953fddb-e1a4-4049-d4a0-5e69691ce102"
      },
      "source": [
        "##################################################################\r\n",
        "#This is a python notebook that builds a neuralnet to predict facial emotions.\r\n",
        "#To run it requires python, Jupyter, and the packages listed below.\r\n",
        "#We decided to separate this from main.Rmd given the dependence on Python.\r\n",
        "#The results of training and testing are included in main.Rmd.\r\n",
        "#This file relies on the csv files created by lib/oversampling.py\r\n",
        "##################################################################\r\n",
        "\r\n",
        "import tensorflow as tf\r\n",
        "import keras\r\n",
        "import numpy as np\r\n",
        "from keras.models import Model, Sequential\r\n",
        "import keras.layers as layers\r\n",
        "import pandas as pd\r\n",
        "import scipy.io\r\n",
        "\r\n",
        "# Process original fiduciary points\r\n",
        "data_root='/../data/train_set'\r\n",
        "points = np.ndarray(shape=(3000,156),dtype=float)\r\n",
        "for i in range(3000):\r\n",
        "  if i == 0:\r\n",
        "    continue\r\n",
        "  if i < 10:\r\n",
        "    name = '000' + str(i)\r\n",
        "  elif i <100:\r\n",
        "    name = '00' + str(i)\r\n",
        "  elif i <1000:\r\n",
        "    name = '0' + str(i)\r\n",
        "\r\n",
        "  point = scipy.io.loadmat(str(data_root)+'/points/'+name+'.mat')\r\n",
        "\r\n",
        "  if 'faceCoordinatesUnwarped' in point.keys():\r\n",
        "    point = point['faceCoordinatesUnwarped']\r\n",
        "  elif 'faceCoordinates2' in point.keys():\r\n",
        "    point = point['faceCoordinates2']\r\n",
        "  points[i] = point.flatten()\r\n",
        "\r\n",
        "matrix_df = pd.read_csv(str(data_root)+'/label.csv',dtype = str)\r\n",
        "\r\n",
        "matrix_df[\"label\"]= matrix_df[\"label\"].astype(int) \r\n"
      ],
      "execution_count": 33,
      "outputs": [
        {
          "output_type": "stream",
          "text": [
            "Drive already mounted at /content/drive; to attempt to forcibly remount, call drive.mount(\"/content/drive\", force_remount=True).\n"
          ],
          "name": "stdout"
        }
      ]
    },
    {
      "cell_type": "code",
      "metadata": {
        "colab": {
          "base_uri": "https://localhost:8080/"
        },
        "id": "2CDlfdhlX9n4",
        "outputId": "0dae893f-d608-440d-da83-acc48431046e"
      },
      "source": [
        "\r\n",
        "#Create model and train on original fiduciary points\r\n",
        "model_a = Sequential()\r\n",
        "model_a.add(layers.Dense(64, activation='relu', input_dim=156))\r\n",
        "model_a.add(layers.Dense(32, activation='relu'))\r\n",
        "model_a.add(layers.Dense(16, activation='relu'))\r\n",
        "model_a.add(layers.Dense(1, activation='sigmoid'))\r\n",
        "\r\n",
        "opt = keras.optimizers.Adam()\r\n",
        "model_a.compile(optimizer=opt,\r\n",
        "              loss='binary_crossentropy',\r\n",
        "              metrics=['accuracy','AUC'])\r\n",
        "\r\n",
        "import time\r\n",
        "start = time.time()\r\n",
        "history = model_a.fit(x=points,\r\n",
        "                          y=matrix_df['label'],\r\n",
        "                          epochs=25,\r\n",
        "                          verbose=2,\r\n",
        "                          validation_split=.2)\r\n",
        "end = time.time()\r\n",
        "print(end - start)\r\n"
      ],
      "execution_count": 34,
      "outputs": [
        {
          "output_type": "stream",
          "text": [
            "Epoch 1/25\n",
            "75/75 - 1s - loss: 5.5659 - accuracy: 0.6862 - auc: 0.5081 - val_loss: 2.2873 - val_accuracy: 0.8017 - val_auc: 0.5000\n",
            "Epoch 2/25\n",
            "75/75 - 0s - loss: 1.6692 - accuracy: 0.6783 - auc: 0.4737 - val_loss: 1.1808 - val_accuracy: 0.8017 - val_auc: 0.5000\n",
            "Epoch 3/25\n",
            "75/75 - 0s - loss: 1.2976 - accuracy: 0.6717 - auc: 0.5134 - val_loss: 1.2842 - val_accuracy: 0.8017 - val_auc: 0.5000\n",
            "Epoch 4/25\n",
            "75/75 - 0s - loss: 2.8335 - accuracy: 0.6896 - auc: 0.5340 - val_loss: 1.4978 - val_accuracy: 0.8017 - val_auc: 0.5000\n",
            "Epoch 5/25\n",
            "75/75 - 0s - loss: 1.2086 - accuracy: 0.6908 - auc: 0.4926 - val_loss: 1.1947 - val_accuracy: 0.1983 - val_auc: 0.5000\n",
            "Epoch 6/25\n",
            "75/75 - 0s - loss: 0.7884 - accuracy: 0.7325 - auc: 0.4998 - val_loss: 1.2001 - val_accuracy: 0.8017 - val_auc: 0.5000\n",
            "Epoch 7/25\n",
            "75/75 - 0s - loss: 1.5971 - accuracy: 0.6796 - auc: 0.4923 - val_loss: 2.0989 - val_accuracy: 0.8017 - val_auc: 0.5000\n",
            "Epoch 8/25\n",
            "75/75 - 0s - loss: 0.8311 - accuracy: 0.7175 - auc: 0.4921 - val_loss: 0.8432 - val_accuracy: 0.8017 - val_auc: 0.5000\n",
            "Epoch 9/25\n",
            "75/75 - 0s - loss: 1.1986 - accuracy: 0.6867 - auc: 0.5042 - val_loss: 0.5917 - val_accuracy: 0.8017 - val_auc: 0.5000\n",
            "Epoch 10/25\n",
            "75/75 - 0s - loss: 0.6399 - accuracy: 0.7446 - auc: 0.5024 - val_loss: 0.4984 - val_accuracy: 0.8017 - val_auc: 0.5000\n",
            "Epoch 11/25\n",
            "75/75 - 0s - loss: 0.7700 - accuracy: 0.7046 - auc: 0.5144 - val_loss: 1.1464 - val_accuracy: 0.8017 - val_auc: 0.5000\n",
            "Epoch 12/25\n",
            "75/75 - 0s - loss: 0.8664 - accuracy: 0.6796 - auc: 0.4841 - val_loss: 0.5475 - val_accuracy: 0.8017 - val_auc: 0.5000\n",
            "Epoch 13/25\n",
            "75/75 - 0s - loss: 0.5633 - accuracy: 0.7867 - auc: 0.4840 - val_loss: 0.5262 - val_accuracy: 0.8017 - val_auc: 0.5000\n",
            "Epoch 14/25\n",
            "75/75 - 0s - loss: 0.5914 - accuracy: 0.7663 - auc: 0.5135 - val_loss: 0.6793 - val_accuracy: 0.8017 - val_auc: 0.5000\n",
            "Epoch 15/25\n",
            "75/75 - 0s - loss: 0.5705 - accuracy: 0.7821 - auc: 0.4915 - val_loss: 0.6381 - val_accuracy: 0.8017 - val_auc: 0.5000\n",
            "Epoch 16/25\n",
            "75/75 - 0s - loss: 0.6739 - accuracy: 0.7183 - auc: 0.4680 - val_loss: 0.7804 - val_accuracy: 0.8017 - val_auc: 0.5000\n",
            "Epoch 17/25\n",
            "75/75 - 0s - loss: 0.5723 - accuracy: 0.7804 - auc: 0.5246 - val_loss: 0.5332 - val_accuracy: 0.8017 - val_auc: 0.5000\n",
            "Epoch 18/25\n",
            "75/75 - 0s - loss: 0.5871 - accuracy: 0.7704 - auc: 0.4848 - val_loss: 0.4990 - val_accuracy: 0.8017 - val_auc: 0.5000\n",
            "Epoch 19/25\n",
            "75/75 - 0s - loss: 0.5941 - accuracy: 0.7542 - auc: 0.5209 - val_loss: 1.3035 - val_accuracy: 0.8017 - val_auc: 0.5000\n",
            "Epoch 20/25\n",
            "75/75 - 0s - loss: 0.7331 - accuracy: 0.7242 - auc: 0.4924 - val_loss: 0.5700 - val_accuracy: 0.8017 - val_auc: 0.5000\n",
            "Epoch 21/25\n",
            "75/75 - 0s - loss: 0.6145 - accuracy: 0.7550 - auc: 0.4668 - val_loss: 0.5498 - val_accuracy: 0.8017 - val_auc: 0.5000\n",
            "Epoch 22/25\n",
            "75/75 - 0s - loss: 0.5540 - accuracy: 0.7887 - auc: 0.4962 - val_loss: 0.5196 - val_accuracy: 0.8017 - val_auc: 0.5000\n",
            "Epoch 23/25\n",
            "75/75 - 0s - loss: 0.5742 - accuracy: 0.7708 - auc: 0.5104 - val_loss: 0.5288 - val_accuracy: 0.8017 - val_auc: 0.5000\n",
            "Epoch 24/25\n",
            "75/75 - 0s - loss: 0.5233 - accuracy: 0.7992 - auc: 0.4852 - val_loss: 0.5615 - val_accuracy: 0.8017 - val_auc: 0.5000\n",
            "Epoch 25/25\n",
            "75/75 - 0s - loss: 0.5153 - accuracy: 0.8004 - auc: 0.4814 - val_loss: 0.5010 - val_accuracy: 0.8017 - val_auc: 0.5000\n",
            "5.077906608581543\n"
          ],
          "name": "stdout"
        }
      ]
    },
    {
      "cell_type": "code",
      "metadata": {
        "colab": {
          "base_uri": "https://localhost:8080/"
        },
        "id": "NBrZDihAfBaU",
        "outputId": "5c92e0eb-0eee-4704-925e-ec05a20646cd"
      },
      "source": [
        "#Time model testing speed\r\n",
        "#Note: The accuracy is not reliable here, as we are timing partially on training data\r\n",
        "start = time.time()\r\n",
        "model_a.evaluate(x=points[1:600],\r\n",
        "                 y=matrix_df['label'][1:600])\r\n",
        "end = time.time()\r\n",
        "print(end-start)"
      ],
      "execution_count": 36,
      "outputs": [
        {
          "output_type": "stream",
          "text": [
            "19/19 [==============================] - 0s 1ms/step - loss: 0.4934 - accuracy: 0.8097 - auc: 0.4830\n",
            "0.0839381217956543\n"
          ],
          "name": "stdout"
        }
      ]
    },
    {
      "cell_type": "code",
      "metadata": {
        "colab": {
          "base_uri": "https://localhost:8080/"
        },
        "id": "ShYnn_IEDckU",
        "outputId": "c2fcf907-ae07-4c7b-9926-d7bd26298f6a"
      },
      "source": [
        "\r\n",
        "#Train on SMOTE Resampled Data\r\n",
        "data_root='/../output'\r\n",
        "df = pd.read_csv(str(data_root)+'/feature_train_oversam.csv',dtype = float).drop(columns=\"Unnamed: 0\")\r\n",
        "data=(df-df.min())/(df.max()-df.min())\r\n",
        "\r\n",
        "\r\n",
        "labs = pd.read_csv(str(data_root)+'/label_train_oversam.csv',dtype = int).drop(columns=\"Unnamed: 0\")\r\n",
        "labs['x'] -= 1\r\n",
        "\r\n",
        "np.random.seed(5)\r\n",
        "idx = np.random.permutation(data.index)\r\n",
        "data = data.reindex(idx)\r\n",
        "labs = labs.reindex(idx)\r\n",
        "\r\n",
        "\r\n",
        "model_a = Sequential()\r\n",
        "model_a.add(layers.Dense(64, activation='relu', input_dim=6006))\r\n",
        "model_a.add(layers.Dense(32, activation='relu'))\r\n",
        "model_a.add(layers.Dense(16, activation='relu'))\r\n",
        "model_a.add(layers.Dense(1, activation='sigmoid'))\r\n",
        "\r\n",
        "opt = keras.optimizers.Adam()\r\n",
        "model_a.compile(optimizer=opt,\r\n",
        "              loss='binary_crossentropy',\r\n",
        "              metrics=['accuracy','AUC'])\r\n",
        "\r\n",
        "import time\r\n",
        "start = time.time()\r\n",
        "history = model_a.fit(x=data,\r\n",
        "                          y=labs,\r\n",
        "                          epochs=25,\r\n",
        "                          verbose=2,\r\n",
        "                          validation_split=.2)\r\n",
        "end = time.time()\r\n",
        "print(end - start)"
      ],
      "execution_count": 37,
      "outputs": [
        {
          "output_type": "stream",
          "text": [
            "Epoch 1/25\n",
            "97/97 - 2s - loss: 0.6884 - accuracy: 0.5487 - auc: 0.5752 - val_loss: 0.6446 - val_accuracy: 0.5736 - val_auc: 0.7621\n",
            "Epoch 2/25\n",
            "97/97 - 1s - loss: 0.6434 - accuracy: 0.6182 - auc: 0.6712 - val_loss: 0.6373 - val_accuracy: 0.6344 - val_auc: 0.7702\n",
            "Epoch 3/25\n",
            "97/97 - 1s - loss: 0.6164 - accuracy: 0.6705 - auc: 0.7202 - val_loss: 0.5665 - val_accuracy: 0.6912 - val_auc: 0.7983\n",
            "Epoch 4/25\n",
            "97/97 - 1s - loss: 0.5908 - accuracy: 0.6828 - auc: 0.7467 - val_loss: 0.5321 - val_accuracy: 0.7545 - val_auc: 0.8203\n",
            "Epoch 5/25\n",
            "97/97 - 1s - loss: 0.5723 - accuracy: 0.7038 - auc: 0.7672 - val_loss: 0.5218 - val_accuracy: 0.7687 - val_auc: 0.8264\n",
            "Epoch 6/25\n",
            "97/97 - 1s - loss: 0.5376 - accuracy: 0.7459 - auc: 0.8038 - val_loss: 0.5004 - val_accuracy: 0.7661 - val_auc: 0.8412\n",
            "Epoch 7/25\n",
            "97/97 - 1s - loss: 0.5248 - accuracy: 0.7488 - auc: 0.8106 - val_loss: 0.5359 - val_accuracy: 0.7442 - val_auc: 0.8502\n",
            "Epoch 8/25\n",
            "97/97 - 1s - loss: 0.5002 - accuracy: 0.7611 - auc: 0.8329 - val_loss: 0.4687 - val_accuracy: 0.7920 - val_auc: 0.8624\n",
            "Epoch 9/25\n",
            "97/97 - 1s - loss: 0.4842 - accuracy: 0.7769 - auc: 0.8454 - val_loss: 0.5649 - val_accuracy: 0.7080 - val_auc: 0.8687\n",
            "Epoch 10/25\n",
            "97/97 - 1s - loss: 0.5000 - accuracy: 0.7608 - auc: 0.8314 - val_loss: 0.4708 - val_accuracy: 0.7881 - val_auc: 0.8730\n",
            "Epoch 11/25\n",
            "97/97 - 1s - loss: 0.4850 - accuracy: 0.7627 - auc: 0.8429 - val_loss: 0.5483 - val_accuracy: 0.7222 - val_auc: 0.8679\n",
            "Epoch 12/25\n",
            "97/97 - 1s - loss: 0.4823 - accuracy: 0.7685 - auc: 0.8435 - val_loss: 0.4567 - val_accuracy: 0.8010 - val_auc: 0.8747\n",
            "Epoch 13/25\n",
            "97/97 - 1s - loss: 0.4706 - accuracy: 0.7834 - auc: 0.8538 - val_loss: 0.4267 - val_accuracy: 0.8191 - val_auc: 0.8863\n",
            "Epoch 14/25\n",
            "97/97 - 1s - loss: 0.4799 - accuracy: 0.7724 - auc: 0.8475 - val_loss: 0.4295 - val_accuracy: 0.8062 - val_auc: 0.8863\n",
            "Epoch 15/25\n",
            "97/97 - 1s - loss: 0.4566 - accuracy: 0.7824 - auc: 0.8636 - val_loss: 0.4308 - val_accuracy: 0.8010 - val_auc: 0.8883\n",
            "Epoch 16/25\n",
            "97/97 - 1s - loss: 0.4825 - accuracy: 0.7601 - auc: 0.8434 - val_loss: 0.4593 - val_accuracy: 0.7868 - val_auc: 0.8936\n",
            "Epoch 17/25\n",
            "97/97 - 1s - loss: 0.4528 - accuracy: 0.7850 - auc: 0.8657 - val_loss: 0.4818 - val_accuracy: 0.7868 - val_auc: 0.8799\n",
            "Epoch 18/25\n",
            "97/97 - 1s - loss: 0.4384 - accuracy: 0.7950 - auc: 0.8745 - val_loss: 0.4245 - val_accuracy: 0.8282 - val_auc: 0.8961\n",
            "Epoch 19/25\n",
            "97/97 - 1s - loss: 0.4086 - accuracy: 0.8244 - auc: 0.8958 - val_loss: 0.4118 - val_accuracy: 0.8217 - val_auc: 0.9013\n",
            "Epoch 20/25\n",
            "97/97 - 1s - loss: 0.4884 - accuracy: 0.7737 - auc: 0.8405 - val_loss: 0.4137 - val_accuracy: 0.8191 - val_auc: 0.8928\n",
            "Epoch 21/25\n",
            "97/97 - 1s - loss: 0.4073 - accuracy: 0.8196 - auc: 0.8943 - val_loss: 0.4009 - val_accuracy: 0.8320 - val_auc: 0.9000\n",
            "Epoch 22/25\n",
            "97/97 - 1s - loss: 0.3967 - accuracy: 0.8293 - auc: 0.9006 - val_loss: 0.3851 - val_accuracy: 0.8385 - val_auc: 0.9110\n",
            "Epoch 23/25\n",
            "97/97 - 1s - loss: 0.3945 - accuracy: 0.8264 - auc: 0.9012 - val_loss: 0.3903 - val_accuracy: 0.8307 - val_auc: 0.9117\n",
            "Epoch 24/25\n",
            "97/97 - 1s - loss: 0.4017 - accuracy: 0.8241 - auc: 0.8958 - val_loss: 0.4733 - val_accuracy: 0.8062 - val_auc: 0.8853\n",
            "Epoch 25/25\n",
            "97/97 - 1s - loss: 0.4675 - accuracy: 0.7763 - auc: 0.8548 - val_loss: 0.4004 - val_accuracy: 0.8320 - val_auc: 0.9096\n",
            "15.459818601608276\n"
          ],
          "name": "stdout"
        }
      ]
    },
    {
      "cell_type": "code",
      "metadata": {
        "colab": {
          "base_uri": "https://localhost:8080/"
        },
        "id": "w9s70hoWfyrA",
        "outputId": "e4e752a7-4b74-414a-9fa4-5019fb000dc9"
      },
      "source": [
        "#Time model testing speed\r\n",
        "#Note: The accuracy is not reliable here, as we are timing partially on training data\r\n",
        "start = time.time()\r\n",
        "model_a.evaluate(x=data[1:600],\r\n",
        "                 y=labs[1:600])\r\n",
        "end = time.time()\r\n",
        "print(end-start)"
      ],
      "execution_count": 38,
      "outputs": [
        {
          "output_type": "stream",
          "text": [
            "19/19 [==============================] - 0s 4ms/step - loss: 0.3838 - accuracy: 0.8297 - auc: 0.9211\n",
            "0.24165010452270508\n"
          ],
          "name": "stdout"
        }
      ]
    }
  ]
}
